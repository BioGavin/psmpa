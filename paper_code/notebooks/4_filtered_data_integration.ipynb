{
 "cells": [
  {
   "cell_type": "markdown",
   "metadata": {},
   "source": [
    "# 根据过滤后的16S数据更新BGC数据表"
   ]
  },
  {
   "cell_type": "code",
   "execution_count": 1,
   "metadata": {},
   "outputs": [],
   "source": [
    "from Bio import SeqIO\n",
    "from pathlib import Path\n",
    "\n",
    "# 读取fasta文件并获取所有序列名\n",
    "def get_fasta_sequence_names(fasta_path):\n",
    "    records = SeqIO.parse(fasta_path, 'fasta')\n",
    "    sequence_names = [record.id for record in records]\n",
    "    return sequence_names"
   ]
  },
  {
   "cell_type": "code",
   "execution_count": 2,
   "metadata": {},
   "outputs": [
    {
     "data": {
      "text/plain": [
       "67171"
      ]
     },
     "execution_count": 2,
     "metadata": {},
     "output_type": "execute_result"
    }
   ],
   "source": [
    "fasta_file = Path('../data/filtered_16SrRNA.fasta')\n",
    "sequence_names = get_fasta_sequence_names(fasta_file)\n",
    "len(sequence_names)\n",
    "    "
   ]
  },
  {
   "cell_type": "code",
   "execution_count": 3,
   "metadata": {},
   "outputs": [
    {
     "name": "stdout",
     "output_type": "stream",
     "text": [
      "(188497, 14)\n"
     ]
    },
    {
     "data": {
      "text/html": [
       "<div>\n",
       "<style scoped>\n",
       "    .dataframe tbody tr th:only-of-type {\n",
       "        vertical-align: middle;\n",
       "    }\n",
       "\n",
       "    .dataframe tbody tr th {\n",
       "        vertical-align: top;\n",
       "    }\n",
       "\n",
       "    .dataframe thead th {\n",
       "        text-align: right;\n",
       "    }\n",
       "</style>\n",
       "<table border=\"1\" class=\"dataframe\">\n",
       "  <thead>\n",
       "    <tr style=\"text-align: right;\">\n",
       "      <th></th>\n",
       "      <th>assembly_accession</th>\n",
       "      <th>CheckM completeness</th>\n",
       "      <th>CheckM contamination</th>\n",
       "      <th>16S_ID</th>\n",
       "      <th>assembly_level</th>\n",
       "      <th>Sum</th>\n",
       "      <th>PKSI</th>\n",
       "      <th>PKSother</th>\n",
       "      <th>NRPS</th>\n",
       "      <th>RiPPs</th>\n",
       "      <th>Saccharides</th>\n",
       "      <th>Terpene</th>\n",
       "      <th>PKS-NRP_Hybrids</th>\n",
       "      <th>Others</th>\n",
       "    </tr>\n",
       "  </thead>\n",
       "  <tbody>\n",
       "    <tr>\n",
       "      <th>0</th>\n",
       "      <td>GCF_000022305.1</td>\n",
       "      <td>100.0</td>\n",
       "      <td>0.67</td>\n",
       "      <td>refseq4905</td>\n",
       "      <td>Complete Genome</td>\n",
       "      <td>3</td>\n",
       "      <td>0</td>\n",
       "      <td>0</td>\n",
       "      <td>0</td>\n",
       "      <td>0</td>\n",
       "      <td>0</td>\n",
       "      <td>1</td>\n",
       "      <td>0</td>\n",
       "      <td>2</td>\n",
       "    </tr>\n",
       "    <tr>\n",
       "      <th>1</th>\n",
       "      <td>GCF_000025965.1</td>\n",
       "      <td>100.0</td>\n",
       "      <td>0.37</td>\n",
       "      <td>refseq15376</td>\n",
       "      <td>Complete Genome</td>\n",
       "      <td>7</td>\n",
       "      <td>0</td>\n",
       "      <td>0</td>\n",
       "      <td>0</td>\n",
       "      <td>0</td>\n",
       "      <td>0</td>\n",
       "      <td>1</td>\n",
       "      <td>0</td>\n",
       "      <td>6</td>\n",
       "    </tr>\n",
       "    <tr>\n",
       "      <th>2</th>\n",
       "      <td>GCF_000023105.1</td>\n",
       "      <td>100.0</td>\n",
       "      <td>0.84</td>\n",
       "      <td>refseq45559</td>\n",
       "      <td>Complete Genome</td>\n",
       "      <td>1</td>\n",
       "      <td>0</td>\n",
       "      <td>0</td>\n",
       "      <td>0</td>\n",
       "      <td>0</td>\n",
       "      <td>0</td>\n",
       "      <td>1</td>\n",
       "      <td>0</td>\n",
       "      <td>0</td>\n",
       "    </tr>\n",
       "    <tr>\n",
       "      <th>3</th>\n",
       "      <td>GCF_000012365.1</td>\n",
       "      <td>100.0</td>\n",
       "      <td>0.06</td>\n",
       "      <td>refseq128457</td>\n",
       "      <td>Complete Genome</td>\n",
       "      <td>20</td>\n",
       "      <td>1</td>\n",
       "      <td>0</td>\n",
       "      <td>5</td>\n",
       "      <td>3</td>\n",
       "      <td>0</td>\n",
       "      <td>2</td>\n",
       "      <td>2</td>\n",
       "      <td>7</td>\n",
       "    </tr>\n",
       "    <tr>\n",
       "      <th>4</th>\n",
       "      <td>GCF_000024165.1</td>\n",
       "      <td>100.0</td>\n",
       "      <td>0.88</td>\n",
       "      <td>refseq35003</td>\n",
       "      <td>Complete Genome</td>\n",
       "      <td>8</td>\n",
       "      <td>0</td>\n",
       "      <td>0</td>\n",
       "      <td>2</td>\n",
       "      <td>1</td>\n",
       "      <td>0</td>\n",
       "      <td>1</td>\n",
       "      <td>0</td>\n",
       "      <td>4</td>\n",
       "    </tr>\n",
       "  </tbody>\n",
       "</table>\n",
       "</div>"
      ],
      "text/plain": [
       "  assembly_accession  CheckM completeness  CheckM contamination        16S_ID  \\\n",
       "0    GCF_000022305.1                100.0                  0.67    refseq4905   \n",
       "1    GCF_000025965.1                100.0                  0.37   refseq15376   \n",
       "2    GCF_000023105.1                100.0                  0.84   refseq45559   \n",
       "3    GCF_000012365.1                100.0                  0.06  refseq128457   \n",
       "4    GCF_000024165.1                100.0                  0.88   refseq35003   \n",
       "\n",
       "    assembly_level  Sum  PKSI  PKSother  NRPS  RiPPs  Saccharides  Terpene  \\\n",
       "0  Complete Genome    3     0         0     0      0            0        1   \n",
       "1  Complete Genome    7     0         0     0      0            0        1   \n",
       "2  Complete Genome    1     0         0     0      0            0        1   \n",
       "3  Complete Genome   20     1         0     5      3            0        2   \n",
       "4  Complete Genome    8     0         0     2      1            0        1   \n",
       "\n",
       "   PKS-NRP_Hybrids  Others  \n",
       "0                0       2  \n",
       "1                0       6  \n",
       "2                0       0  \n",
       "3                2       7  \n",
       "4                0       4  "
      ]
     },
     "execution_count": 3,
     "metadata": {},
     "output_type": "execute_result"
    }
   ],
   "source": [
    "import pandas as pd\n",
    "tables1_hq_path = Path('../data/tables1_hq.csv')\n",
    "tables1_hq_df = pd.read_csv(tables1_hq_path)\n",
    "print(tables1_hq_df.shape)\n",
    "tables1_hq_df.head()"
   ]
  },
  {
   "cell_type": "code",
   "execution_count": 4,
   "metadata": {},
   "outputs": [
    {
     "name": "stdout",
     "output_type": "stream",
     "text": [
      "(175321, 14)\n"
     ]
    },
    {
     "data": {
      "text/html": [
       "<div>\n",
       "<style scoped>\n",
       "    .dataframe tbody tr th:only-of-type {\n",
       "        vertical-align: middle;\n",
       "    }\n",
       "\n",
       "    .dataframe tbody tr th {\n",
       "        vertical-align: top;\n",
       "    }\n",
       "\n",
       "    .dataframe thead th {\n",
       "        text-align: right;\n",
       "    }\n",
       "</style>\n",
       "<table border=\"1\" class=\"dataframe\">\n",
       "  <thead>\n",
       "    <tr style=\"text-align: right;\">\n",
       "      <th></th>\n",
       "      <th>assembly_accession</th>\n",
       "      <th>CheckM completeness</th>\n",
       "      <th>CheckM contamination</th>\n",
       "      <th>16S_ID</th>\n",
       "      <th>assembly_level</th>\n",
       "      <th>Sum</th>\n",
       "      <th>PKSI</th>\n",
       "      <th>PKSother</th>\n",
       "      <th>NRPS</th>\n",
       "      <th>RiPPs</th>\n",
       "      <th>Saccharides</th>\n",
       "      <th>Terpene</th>\n",
       "      <th>PKS-NRP_Hybrids</th>\n",
       "      <th>Others</th>\n",
       "    </tr>\n",
       "  </thead>\n",
       "  <tbody>\n",
       "    <tr>\n",
       "      <th>0</th>\n",
       "      <td>GCF_000022305.1</td>\n",
       "      <td>100.0</td>\n",
       "      <td>0.67</td>\n",
       "      <td>refseq4905</td>\n",
       "      <td>Complete Genome</td>\n",
       "      <td>3</td>\n",
       "      <td>0</td>\n",
       "      <td>0</td>\n",
       "      <td>0</td>\n",
       "      <td>0</td>\n",
       "      <td>0</td>\n",
       "      <td>1</td>\n",
       "      <td>0</td>\n",
       "      <td>2</td>\n",
       "    </tr>\n",
       "    <tr>\n",
       "      <th>1</th>\n",
       "      <td>GCF_000025965.1</td>\n",
       "      <td>100.0</td>\n",
       "      <td>0.37</td>\n",
       "      <td>refseq15376</td>\n",
       "      <td>Complete Genome</td>\n",
       "      <td>7</td>\n",
       "      <td>0</td>\n",
       "      <td>0</td>\n",
       "      <td>0</td>\n",
       "      <td>0</td>\n",
       "      <td>0</td>\n",
       "      <td>1</td>\n",
       "      <td>0</td>\n",
       "      <td>6</td>\n",
       "    </tr>\n",
       "    <tr>\n",
       "      <th>2</th>\n",
       "      <td>GCF_000023105.1</td>\n",
       "      <td>100.0</td>\n",
       "      <td>0.84</td>\n",
       "      <td>refseq45559</td>\n",
       "      <td>Complete Genome</td>\n",
       "      <td>1</td>\n",
       "      <td>0</td>\n",
       "      <td>0</td>\n",
       "      <td>0</td>\n",
       "      <td>0</td>\n",
       "      <td>0</td>\n",
       "      <td>1</td>\n",
       "      <td>0</td>\n",
       "      <td>0</td>\n",
       "    </tr>\n",
       "    <tr>\n",
       "      <th>3</th>\n",
       "      <td>GCF_000012365.1</td>\n",
       "      <td>100.0</td>\n",
       "      <td>0.06</td>\n",
       "      <td>refseq128457</td>\n",
       "      <td>Complete Genome</td>\n",
       "      <td>20</td>\n",
       "      <td>1</td>\n",
       "      <td>0</td>\n",
       "      <td>5</td>\n",
       "      <td>3</td>\n",
       "      <td>0</td>\n",
       "      <td>2</td>\n",
       "      <td>2</td>\n",
       "      <td>7</td>\n",
       "    </tr>\n",
       "    <tr>\n",
       "      <th>4</th>\n",
       "      <td>GCF_000024165.1</td>\n",
       "      <td>100.0</td>\n",
       "      <td>0.88</td>\n",
       "      <td>refseq35003</td>\n",
       "      <td>Complete Genome</td>\n",
       "      <td>8</td>\n",
       "      <td>0</td>\n",
       "      <td>0</td>\n",
       "      <td>2</td>\n",
       "      <td>1</td>\n",
       "      <td>0</td>\n",
       "      <td>1</td>\n",
       "      <td>0</td>\n",
       "      <td>4</td>\n",
       "    </tr>\n",
       "  </tbody>\n",
       "</table>\n",
       "</div>"
      ],
      "text/plain": [
       "  assembly_accession  CheckM completeness  CheckM contamination        16S_ID  \\\n",
       "0    GCF_000022305.1                100.0                  0.67    refseq4905   \n",
       "1    GCF_000025965.1                100.0                  0.37   refseq15376   \n",
       "2    GCF_000023105.1                100.0                  0.84   refseq45559   \n",
       "3    GCF_000012365.1                100.0                  0.06  refseq128457   \n",
       "4    GCF_000024165.1                100.0                  0.88   refseq35003   \n",
       "\n",
       "    assembly_level  Sum  PKSI  PKSother  NRPS  RiPPs  Saccharides  Terpene  \\\n",
       "0  Complete Genome    3     0         0     0      0            0        1   \n",
       "1  Complete Genome    7     0         0     0      0            0        1   \n",
       "2  Complete Genome    1     0         0     0      0            0        1   \n",
       "3  Complete Genome   20     1         0     5      3            0        2   \n",
       "4  Complete Genome    8     0         0     2      1            0        1   \n",
       "\n",
       "   PKS-NRP_Hybrids  Others  \n",
       "0                0       2  \n",
       "1                0       6  \n",
       "2                0       0  \n",
       "3                2       7  \n",
       "4                0       4  "
      ]
     },
     "execution_count": 4,
     "metadata": {},
     "output_type": "execute_result"
    }
   ],
   "source": [
    "# 删除16S_ID列中值不在sequence_names里的行\n",
    "tables1_hq_df_filtered = tables1_hq_df[tables1_hq_df['16S_ID'].isin(sequence_names)]\n",
    "print(tables1_hq_df_filtered.shape)\n",
    "tables1_hq_df_filtered.head()"
   ]
  },
  {
   "cell_type": "code",
   "execution_count": 5,
   "metadata": {},
   "outputs": [],
   "source": [
    "tables1_hq_df_filtered.to_csv(\"../data/TableS1_HQ_filtered16S.csv\", index=False)"
   ]
  },
  {
   "cell_type": "markdown",
   "metadata": {},
   "source": [
    "# 根据过滤后的 Table 更新 16S 序列"
   ]
  },
  {
   "cell_type": "code",
   "execution_count": 13,
   "metadata": {},
   "outputs": [],
   "source": [
    "unique_refseq_ids = tables1_hq_df_filtered[\"16S_ID\"].unique()"
   ]
  },
  {
   "cell_type": "code",
   "execution_count": 14,
   "metadata": {},
   "outputs": [],
   "source": [
    "from Bio import SeqIO\n",
    "from pathlib import Path\n",
    "\n",
    "# 读取fasta文件\n",
    "def read_fasta(fasta_path):\n",
    "    records = list(SeqIO.parse(fasta_path, 'fasta'))\n",
    "    return records"
   ]
  },
  {
   "cell_type": "code",
   "execution_count": 15,
   "metadata": {},
   "outputs": [],
   "source": [
    "# 保留整合后的序列\n",
    "def filter_not_in_dataset(records):\n",
    "    keep_records = []\n",
    "    for record in records:\n",
    "        if record.id in unique_refseq_ids:\n",
    "            keep_records.append(record)\n",
    "    return keep_records\n"
   ]
  },
  {
   "cell_type": "code",
   "execution_count": 16,
   "metadata": {},
   "outputs": [],
   "source": [
    "records = read_fasta(\"../data/filtered_16SrRNA.fasta\")\n",
    "keep_records = filter_not_in_dataset(records)\n"
   ]
  },
  {
   "cell_type": "code",
   "execution_count": 17,
   "metadata": {},
   "outputs": [
    {
     "data": {
      "text/plain": [
       "53812"
      ]
     },
     "execution_count": 17,
     "metadata": {},
     "output_type": "execute_result"
    }
   ],
   "source": [
    "len(keep_records)"
   ]
  },
  {
   "cell_type": "code",
   "execution_count": 18,
   "metadata": {},
   "outputs": [
    {
     "data": {
      "text/plain": [
       "53812"
      ]
     },
     "execution_count": 18,
     "metadata": {},
     "output_type": "execute_result"
    }
   ],
   "source": [
    "# 保存过滤后的序列\n",
    "output_file = Path('../data/filtered_intergrated_16SrRNA.fasta')\n",
    "SeqIO.write(keep_records, output_file, 'fasta')"
   ]
  },
  {
   "cell_type": "code",
   "execution_count": null,
   "metadata": {},
   "outputs": [],
   "source": []
  }
 ],
 "metadata": {
  "kernelspec": {
   "display_name": "psmpa-ai",
   "language": "python",
   "name": "python3"
  },
  "language_info": {
   "codemirror_mode": {
    "name": "ipython",
    "version": 3
   },
   "file_extension": ".py",
   "mimetype": "text/x-python",
   "name": "python",
   "nbconvert_exporter": "python",
   "pygments_lexer": "ipython3",
   "version": "3.11.11"
  }
 },
 "nbformat": 4,
 "nbformat_minor": 2
}
