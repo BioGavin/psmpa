{
 "cells": [
  {
   "cell_type": "markdown",
   "metadata": {},
   "source": [
    "# 过滤低质量基因组数据\n",
    "\n",
    "前期已经获得216408条数据，现过滤掉低质量基因组数据"
   ]
  },
  {
   "cell_type": "code",
   "execution_count": 10,
   "metadata": {},
   "outputs": [],
   "source": [
    "from pathlib import Path\n",
    "\n",
    "tables1_path = Path(\"../data/TableS1.csv\")\n",
    "checkm_path = Path(\"../data/checkm.csv\")"
   ]
  },
  {
   "cell_type": "code",
   "execution_count": 11,
   "metadata": {},
   "outputs": [
    {
     "data": {
      "text/html": [
       "<div>\n",
       "<style scoped>\n",
       "    .dataframe tbody tr th:only-of-type {\n",
       "        vertical-align: middle;\n",
       "    }\n",
       "\n",
       "    .dataframe tbody tr th {\n",
       "        vertical-align: top;\n",
       "    }\n",
       "\n",
       "    .dataframe thead th {\n",
       "        text-align: right;\n",
       "    }\n",
       "</style>\n",
       "<table border=\"1\" class=\"dataframe\">\n",
       "  <thead>\n",
       "    <tr style=\"text-align: right;\">\n",
       "      <th></th>\n",
       "      <th>Assembly Accession</th>\n",
       "      <th>CheckM completeness</th>\n",
       "      <th>CheckM contamination</th>\n",
       "    </tr>\n",
       "  </thead>\n",
       "  <tbody>\n",
       "    <tr>\n",
       "      <th>0</th>\n",
       "      <td>GCF_000022305.1</td>\n",
       "      <td>100.0</td>\n",
       "      <td>0.67</td>\n",
       "    </tr>\n",
       "    <tr>\n",
       "      <th>1</th>\n",
       "      <td>GCF_000020225.1</td>\n",
       "      <td>100.0</td>\n",
       "      <td>NaN</td>\n",
       "    </tr>\n",
       "    <tr>\n",
       "      <th>2</th>\n",
       "      <td>GCF_000025965.1</td>\n",
       "      <td>100.0</td>\n",
       "      <td>0.37</td>\n",
       "    </tr>\n",
       "    <tr>\n",
       "      <th>3</th>\n",
       "      <td>GCF_000023105.1</td>\n",
       "      <td>100.0</td>\n",
       "      <td>0.84</td>\n",
       "    </tr>\n",
       "    <tr>\n",
       "      <th>4</th>\n",
       "      <td>GCF_000019925.1</td>\n",
       "      <td>100.0</td>\n",
       "      <td>NaN</td>\n",
       "    </tr>\n",
       "  </tbody>\n",
       "</table>\n",
       "</div>"
      ],
      "text/plain": [
       "  Assembly Accession  CheckM completeness  CheckM contamination\n",
       "0    GCF_000022305.1                100.0                  0.67\n",
       "1    GCF_000020225.1                100.0                   NaN\n",
       "2    GCF_000025965.1                100.0                  0.37\n",
       "3    GCF_000023105.1                100.0                  0.84\n",
       "4    GCF_000019925.1                100.0                   NaN"
      ]
     },
     "execution_count": 11,
     "metadata": {},
     "output_type": "execute_result"
    }
   ],
   "source": [
    "import pandas as pd\n",
    "\n",
    "checkm_df = pd.read_csv(checkm_path)\n",
    "checkm_df = checkm_df.iloc[:, 1:]\n",
    "checkm_df.head()"
   ]
  },
  {
   "cell_type": "code",
   "execution_count": 12,
   "metadata": {},
   "outputs": [
    {
     "data": {
      "text/plain": [
       "(188497, 3)"
      ]
     },
     "execution_count": 12,
     "metadata": {},
     "output_type": "execute_result"
    }
   ],
   "source": [
    "# 筛选完整度≥90%污染率≤5%的基因组\n",
    "filtered_df = checkm_df[(checkm_df['CheckM completeness'] >= 90) & (checkm_df['CheckM contamination'] <= 5)]\n",
    "filtered_df.shape"
   ]
  },
  {
   "cell_type": "code",
   "execution_count": 13,
   "metadata": {},
   "outputs": [
    {
     "data": {
      "text/html": [
       "<div>\n",
       "<style scoped>\n",
       "    .dataframe tbody tr th:only-of-type {\n",
       "        vertical-align: middle;\n",
       "    }\n",
       "\n",
       "    .dataframe tbody tr th {\n",
       "        vertical-align: top;\n",
       "    }\n",
       "\n",
       "    .dataframe thead th {\n",
       "        text-align: right;\n",
       "    }\n",
       "</style>\n",
       "<table border=\"1\" class=\"dataframe\">\n",
       "  <thead>\n",
       "    <tr style=\"text-align: right;\">\n",
       "      <th></th>\n",
       "      <th>assembly_accession</th>\n",
       "      <th>16S_ID</th>\n",
       "      <th>assembly_level</th>\n",
       "      <th>Sum</th>\n",
       "      <th>PKSI</th>\n",
       "      <th>PKSother</th>\n",
       "      <th>NRPS</th>\n",
       "      <th>RiPPs</th>\n",
       "      <th>Saccharides</th>\n",
       "      <th>Terpene</th>\n",
       "      <th>PKS-NRP_Hybrids</th>\n",
       "      <th>Others</th>\n",
       "    </tr>\n",
       "  </thead>\n",
       "  <tbody>\n",
       "    <tr>\n",
       "      <th>0</th>\n",
       "      <td>GCF_018967645.1</td>\n",
       "      <td>refseq1</td>\n",
       "      <td>Scaffold</td>\n",
       "      <td>2</td>\n",
       "      <td>0</td>\n",
       "      <td>1</td>\n",
       "      <td>0</td>\n",
       "      <td>0</td>\n",
       "      <td>0</td>\n",
       "      <td>0</td>\n",
       "      <td>0</td>\n",
       "      <td>1</td>\n",
       "    </tr>\n",
       "    <tr>\n",
       "      <th>1</th>\n",
       "      <td>GCF_001876165.1</td>\n",
       "      <td>refseq1</td>\n",
       "      <td>Scaffold</td>\n",
       "      <td>5</td>\n",
       "      <td>1</td>\n",
       "      <td>0</td>\n",
       "      <td>0</td>\n",
       "      <td>1</td>\n",
       "      <td>0</td>\n",
       "      <td>1</td>\n",
       "      <td>1</td>\n",
       "      <td>1</td>\n",
       "    </tr>\n",
       "    <tr>\n",
       "      <th>2</th>\n",
       "      <td>GCF_001876245.1</td>\n",
       "      <td>refseq1</td>\n",
       "      <td>Scaffold</td>\n",
       "      <td>5</td>\n",
       "      <td>1</td>\n",
       "      <td>0</td>\n",
       "      <td>0</td>\n",
       "      <td>1</td>\n",
       "      <td>0</td>\n",
       "      <td>1</td>\n",
       "      <td>1</td>\n",
       "      <td>1</td>\n",
       "    </tr>\n",
       "    <tr>\n",
       "      <th>3</th>\n",
       "      <td>GCF_009600735.1</td>\n",
       "      <td>refseq1</td>\n",
       "      <td>Contig</td>\n",
       "      <td>3</td>\n",
       "      <td>0</td>\n",
       "      <td>0</td>\n",
       "      <td>1</td>\n",
       "      <td>2</td>\n",
       "      <td>0</td>\n",
       "      <td>0</td>\n",
       "      <td>0</td>\n",
       "      <td>0</td>\n",
       "    </tr>\n",
       "    <tr>\n",
       "      <th>4</th>\n",
       "      <td>GCF_009600765.1</td>\n",
       "      <td>refseq1</td>\n",
       "      <td>Contig</td>\n",
       "      <td>3</td>\n",
       "      <td>0</td>\n",
       "      <td>0</td>\n",
       "      <td>1</td>\n",
       "      <td>2</td>\n",
       "      <td>0</td>\n",
       "      <td>0</td>\n",
       "      <td>0</td>\n",
       "      <td>0</td>\n",
       "    </tr>\n",
       "  </tbody>\n",
       "</table>\n",
       "</div>"
      ],
      "text/plain": [
       "  assembly_accession   16S_ID assembly_level  Sum  PKSI  PKSother  NRPS  \\\n",
       "0    GCF_018967645.1  refseq1       Scaffold    2     0         1     0   \n",
       "1    GCF_001876165.1  refseq1       Scaffold    5     1         0     0   \n",
       "2    GCF_001876245.1  refseq1       Scaffold    5     1         0     0   \n",
       "3    GCF_009600735.1  refseq1         Contig    3     0         0     1   \n",
       "4    GCF_009600765.1  refseq1         Contig    3     0         0     1   \n",
       "\n",
       "   RiPPs  Saccharides  Terpene  PKS-NRP_Hybrids  Others  \n",
       "0      0            0        0                0       1  \n",
       "1      1            0        1                1       1  \n",
       "2      1            0        1                1       1  \n",
       "3      2            0        0                0       0  \n",
       "4      2            0        0                0       0  "
      ]
     },
     "execution_count": 13,
     "metadata": {},
     "output_type": "execute_result"
    }
   ],
   "source": [
    "# 读取TableS1\n",
    "tables1_df = pd.read_csv(tables1_path)\n",
    "tables1_df.head()"
   ]
  },
  {
   "cell_type": "code",
   "execution_count": 14,
   "metadata": {},
   "outputs": [
    {
     "data": {
      "text/plain": [
       "Index(['assembly_accession', 'CheckM completeness', 'CheckM contamination'], dtype='object')"
      ]
     },
     "execution_count": 14,
     "metadata": {},
     "output_type": "execute_result"
    }
   ],
   "source": [
    "# 将filtered_df的\"Assembly Accession\"改为\"assembly_accession\"\n",
    "filtered_df = filtered_df.rename(columns={\"Assembly Accession\": \"assembly_accession\"})\n",
    "filtered_df.columns"
   ]
  },
  {
   "cell_type": "code",
   "execution_count": 15,
   "metadata": {},
   "outputs": [
    {
     "data": {
      "text/plain": [
       "(188497, 14)"
      ]
     },
     "execution_count": 15,
     "metadata": {},
     "output_type": "execute_result"
    }
   ],
   "source": [
    "# 提取合并高质量基因组的16S序列和BGC信息\n",
    "hq_df = pd.merge(left=filtered_df, left_on=[\"assembly_accession\"], right=tables1_df, right_on=[\"assembly_accession\"], how=\"inner\")\n",
    "hq_df.shape"
   ]
  },
  {
   "cell_type": "code",
   "execution_count": 16,
   "metadata": {},
   "outputs": [
    {
     "data": {
      "text/html": [
       "<div>\n",
       "<style scoped>\n",
       "    .dataframe tbody tr th:only-of-type {\n",
       "        vertical-align: middle;\n",
       "    }\n",
       "\n",
       "    .dataframe tbody tr th {\n",
       "        vertical-align: top;\n",
       "    }\n",
       "\n",
       "    .dataframe thead th {\n",
       "        text-align: right;\n",
       "    }\n",
       "</style>\n",
       "<table border=\"1\" class=\"dataframe\">\n",
       "  <thead>\n",
       "    <tr style=\"text-align: right;\">\n",
       "      <th></th>\n",
       "      <th>assembly_accession</th>\n",
       "      <th>CheckM completeness</th>\n",
       "      <th>CheckM contamination</th>\n",
       "      <th>16S_ID</th>\n",
       "      <th>assembly_level</th>\n",
       "      <th>Sum</th>\n",
       "      <th>PKSI</th>\n",
       "      <th>PKSother</th>\n",
       "      <th>NRPS</th>\n",
       "      <th>RiPPs</th>\n",
       "      <th>Saccharides</th>\n",
       "      <th>Terpene</th>\n",
       "      <th>PKS-NRP_Hybrids</th>\n",
       "      <th>Others</th>\n",
       "    </tr>\n",
       "  </thead>\n",
       "  <tbody>\n",
       "    <tr>\n",
       "      <th>0</th>\n",
       "      <td>GCF_000022305.1</td>\n",
       "      <td>100.0</td>\n",
       "      <td>0.67</td>\n",
       "      <td>refseq4905</td>\n",
       "      <td>Complete Genome</td>\n",
       "      <td>3</td>\n",
       "      <td>0</td>\n",
       "      <td>0</td>\n",
       "      <td>0</td>\n",
       "      <td>0</td>\n",
       "      <td>0</td>\n",
       "      <td>1</td>\n",
       "      <td>0</td>\n",
       "      <td>2</td>\n",
       "    </tr>\n",
       "    <tr>\n",
       "      <th>1</th>\n",
       "      <td>GCF_000025965.1</td>\n",
       "      <td>100.0</td>\n",
       "      <td>0.37</td>\n",
       "      <td>refseq15376</td>\n",
       "      <td>Complete Genome</td>\n",
       "      <td>7</td>\n",
       "      <td>0</td>\n",
       "      <td>0</td>\n",
       "      <td>0</td>\n",
       "      <td>0</td>\n",
       "      <td>0</td>\n",
       "      <td>1</td>\n",
       "      <td>0</td>\n",
       "      <td>6</td>\n",
       "    </tr>\n",
       "    <tr>\n",
       "      <th>2</th>\n",
       "      <td>GCF_000023105.1</td>\n",
       "      <td>100.0</td>\n",
       "      <td>0.84</td>\n",
       "      <td>refseq45559</td>\n",
       "      <td>Complete Genome</td>\n",
       "      <td>1</td>\n",
       "      <td>0</td>\n",
       "      <td>0</td>\n",
       "      <td>0</td>\n",
       "      <td>0</td>\n",
       "      <td>0</td>\n",
       "      <td>1</td>\n",
       "      <td>0</td>\n",
       "      <td>0</td>\n",
       "    </tr>\n",
       "    <tr>\n",
       "      <th>3</th>\n",
       "      <td>GCF_000012365.1</td>\n",
       "      <td>100.0</td>\n",
       "      <td>0.06</td>\n",
       "      <td>refseq128457</td>\n",
       "      <td>Complete Genome</td>\n",
       "      <td>20</td>\n",
       "      <td>1</td>\n",
       "      <td>0</td>\n",
       "      <td>5</td>\n",
       "      <td>3</td>\n",
       "      <td>0</td>\n",
       "      <td>2</td>\n",
       "      <td>2</td>\n",
       "      <td>7</td>\n",
       "    </tr>\n",
       "    <tr>\n",
       "      <th>4</th>\n",
       "      <td>GCF_000024165.1</td>\n",
       "      <td>100.0</td>\n",
       "      <td>0.88</td>\n",
       "      <td>refseq35003</td>\n",
       "      <td>Complete Genome</td>\n",
       "      <td>8</td>\n",
       "      <td>0</td>\n",
       "      <td>0</td>\n",
       "      <td>2</td>\n",
       "      <td>1</td>\n",
       "      <td>0</td>\n",
       "      <td>1</td>\n",
       "      <td>0</td>\n",
       "      <td>4</td>\n",
       "    </tr>\n",
       "  </tbody>\n",
       "</table>\n",
       "</div>"
      ],
      "text/plain": [
       "  assembly_accession  CheckM completeness  CheckM contamination        16S_ID  \\\n",
       "0    GCF_000022305.1                100.0                  0.67    refseq4905   \n",
       "1    GCF_000025965.1                100.0                  0.37   refseq15376   \n",
       "2    GCF_000023105.1                100.0                  0.84   refseq45559   \n",
       "3    GCF_000012365.1                100.0                  0.06  refseq128457   \n",
       "4    GCF_000024165.1                100.0                  0.88   refseq35003   \n",
       "\n",
       "    assembly_level  Sum  PKSI  PKSother  NRPS  RiPPs  Saccharides  Terpene  \\\n",
       "0  Complete Genome    3     0         0     0      0            0        1   \n",
       "1  Complete Genome    7     0         0     0      0            0        1   \n",
       "2  Complete Genome    1     0         0     0      0            0        1   \n",
       "3  Complete Genome   20     1         0     5      3            0        2   \n",
       "4  Complete Genome    8     0         0     2      1            0        1   \n",
       "\n",
       "   PKS-NRP_Hybrids  Others  \n",
       "0                0       2  \n",
       "1                0       6  \n",
       "2                0       0  \n",
       "3                2       7  \n",
       "4                0       4  "
      ]
     },
     "execution_count": 16,
     "metadata": {},
     "output_type": "execute_result"
    }
   ],
   "source": [
    "hq_df.head()"
   ]
  },
  {
   "cell_type": "code",
   "execution_count": 17,
   "metadata": {},
   "outputs": [],
   "source": [
    "hq_df.to_csv(\"../data/TableS1_HQ.csv\", index=False)"
   ]
  },
  {
   "cell_type": "code",
   "execution_count": null,
   "metadata": {},
   "outputs": [],
   "source": []
  }
 ],
 "metadata": {
  "kernelspec": {
   "display_name": "psmpa-ai",
   "language": "python",
   "name": "python3"
  },
  "language_info": {
   "codemirror_mode": {
    "name": "ipython",
    "version": 3
   },
   "file_extension": ".py",
   "mimetype": "text/x-python",
   "name": "python",
   "nbconvert_exporter": "python",
   "pygments_lexer": "ipython3",
   "version": "3.11.11"
  }
 },
 "nbformat": 4,
 "nbformat_minor": 2
}
