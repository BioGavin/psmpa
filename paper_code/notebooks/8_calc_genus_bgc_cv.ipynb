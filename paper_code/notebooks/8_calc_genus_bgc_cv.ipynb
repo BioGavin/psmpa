{
 "cells": [
  {
   "cell_type": "code",
   "execution_count": 1,
   "id": "09ea1fa7",
   "metadata": {},
   "outputs": [
    {
     "name": "stdout",
     "output_type": "stream",
     "text": [
      "                                       genus  count       mean       std  \\\n",
      "0                                g__Absiella      7   0.142857  0.377964   \n",
      "1                           g__Acaryochloris      4  12.750000  3.304038   \n",
      "2                             g__Acetivibrio     14   4.428571  2.277458   \n",
      "3                         g__Acetoanaerobium      2   2.000000  0.000000   \n",
      "4                             g__Acetobacter    116   3.793103  1.115248   \n",
      "...                                      ...    ...        ...       ...   \n",
      "1563       g__unclassified Nostocaceae genus      2  27.500000  9.192388   \n",
      "1564  g__unclassified Oscillospiraceae genus      2   2.000000  1.414214   \n",
      "1565  g__unclassified Rhodobacteraceae genus      6   5.333333  2.160247   \n",
      "1566     g__unclassified Rickettsiales genus      2   1.000000  0.000000   \n",
      "1567    g__unclassified Spirochaetales genus      4   0.750000  0.500000   \n",
      "\n",
      "            cv  range  \n",
      "0     2.645751      1  \n",
      "1     0.259140      8  \n",
      "2     0.514265     10  \n",
      "3     0.000000      0  \n",
      "4     0.294020      7  \n",
      "...        ...    ...  \n",
      "1563  0.334269     13  \n",
      "1564  0.707107      2  \n",
      "1565  0.405046      6  \n",
      "1566  0.000000      0  \n",
      "1567  0.666667      1  \n",
      "\n",
      "[1568 rows x 6 columns]\n"
     ]
    }
   ],
   "source": [
    "import pandas as pd\n",
    "\n",
    "# 1. 读取数据\n",
    "df = pd.read_csv(\"data/TableS1_HQ_filtered16S_lineage.csv\")\n",
    "\n",
    "# 2. 按 genus 分组，计算 mean、std、count、sum 和极差（range）\n",
    "grouped = df.groupby('genus')['Sum'].agg(\n",
    "    mean='mean',\n",
    "    std='std',\n",
    "    count='count',\n",
    "    sum='sum',\n",
    "    range=lambda x: x.max() - x.min()\n",
    ")\n",
    "\n",
    "# 3. 仅保留 count > 1 且 sum > 0 的组\n",
    "filtered = grouped[(grouped['count'] > 1) & (grouped['sum'] > 0)].copy()\n",
    "\n",
    "# 4. 计算 CV\n",
    "filtered['cv'] = filtered['std'] / filtered['mean']\n",
    "\n",
    "# 5. 重置索引并输出结果\n",
    "result = filtered.reset_index()[['genus', 'count', 'mean', 'std', 'cv', 'range']]\n",
    "\n",
    "# 6. 保存结果\n",
    "output_csv = \"data/BGCvariationinGenus_with_range.csv\"\n",
    "result.to_csv(output_csv, index=False)\n",
    "\n",
    "# 输出预览\n",
    "print(result)"
   ]
  },
  {
   "cell_type": "code",
   "execution_count": null,
   "id": "cdead744",
   "metadata": {},
   "outputs": [],
   "source": []
  }
 ],
 "metadata": {
  "kernelspec": {
   "display_name": "psmpa-ai",
   "language": "python",
   "name": "python3"
  },
  "language_info": {
   "codemirror_mode": {
    "name": "ipython",
    "version": 3
   },
   "file_extension": ".py",
   "mimetype": "text/x-python",
   "name": "python",
   "nbconvert_exporter": "python",
   "pygments_lexer": "ipython3",
   "version": "3.11.11"
  }
 },
 "nbformat": 4,
 "nbformat_minor": 5
}
