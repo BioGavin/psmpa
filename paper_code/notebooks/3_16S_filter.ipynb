{
 "cells": [
  {
   "cell_type": "markdown",
   "metadata": {},
   "source": [
    "# 16S rRNA 序列过滤"
   ]
  },
  {
   "cell_type": "markdown",
   "metadata": {},
   "source": [
    "- 过滤掉含非核酸字符的序列\n",
    "- 过滤掉长度小于250和大于2000的序列"
   ]
  },
  {
   "cell_type": "code",
   "execution_count": 21,
   "metadata": {},
   "outputs": [],
   "source": [
    "from Bio import SeqIO\n",
    "from pathlib import Path\n",
    "\n",
    "# 读取fasta文件\n",
    "def read_fasta(fasta_path):\n",
    "    records = list(SeqIO.parse(fasta_path, 'fasta'))\n",
    "    return records"
   ]
  },
  {
   "cell_type": "code",
   "execution_count": 22,
   "metadata": {},
   "outputs": [],
   "source": [
    "# 过滤包含非ATCG字符的序列\n",
    "def filter_non_atcg_sequences(records):\n",
    "    valid_records = []\n",
    "    for record in records:\n",
    "        sequence = str(record.seq).upper()\n",
    "        if all(base in 'ATCG' for base in sequence):\n",
    "            valid_records.append(record)\n",
    "    return valid_records"
   ]
  },
  {
   "cell_type": "code",
   "execution_count": 23,
   "metadata": {},
   "outputs": [],
   "source": [
    "# 过滤长度小于250和大于2000的序列\n",
    "def filter_short_and_long_sequences(records):\n",
    "    valid_records = []\n",
    "    for record in records:\n",
    "        if 250 <= len(record.seq) <= 2000:\n",
    "            valid_records.append(record)\n",
    "    return valid_records"
   ]
  },
  {
   "cell_type": "code",
   "execution_count": 24,
   "metadata": {},
   "outputs": [
    {
     "name": "stdout",
     "output_type": "stream",
     "text": [
      "读取到 75969 条序列\n"
     ]
    }
   ],
   "source": [
    "fasta_file = Path('../data/16SrRNA.fasta')\n",
    "records = read_fasta(fasta_file)\n",
    "length_before = len(records)\n",
    "print(f\"读取到 {length_before} 条序列\")"
   ]
  },
  {
   "cell_type": "code",
   "execution_count": 25,
   "metadata": {},
   "outputs": [
    {
     "name": "stdout",
     "output_type": "stream",
     "text": [
      "过滤后剩余 67171 条序列\n"
     ]
    }
   ],
   "source": [
    "records = filter_non_atcg_sequences(records)\n",
    "records = filter_short_and_long_sequences(records)\n",
    "length_after = len(records)\n",
    "print(f\"过滤后剩余 {length_after} 条序列\")"
   ]
  },
  {
   "cell_type": "code",
   "execution_count": 26,
   "metadata": {},
   "outputs": [],
   "source": [
    "import pandas as pd\n",
    "\n",
    "# 获取序列长度\n",
    "def get_sequence_lengths(records):\n",
    "    lengths = [len(record.seq) for record in records]\n",
    "    return pd.DataFrame({'Length': lengths})"
   ]
  },
  {
   "cell_type": "code",
   "execution_count": 27,
   "metadata": {},
   "outputs": [
    {
     "name": "stdout",
     "output_type": "stream",
     "text": [
      "             Length\n",
      "count  67171.000000\n",
      "mean    1350.904468\n",
      "std      354.950058\n",
      "min      250.000000\n",
      "25%     1370.000000\n",
      "50%     1524.000000\n",
      "75%     1542.000000\n",
      "max     1975.000000\n"
     ]
    }
   ],
   "source": [
    "# 获取长度统计\n",
    "lengths_df = get_sequence_lengths(records)\n",
    "# 显示基本统计信息\n",
    "print(lengths_df.describe())"
   ]
  },
  {
   "cell_type": "code",
   "execution_count": 28,
   "metadata": {},
   "outputs": [
    {
     "name": "stdout",
     "output_type": "stream",
     "text": [
      "Longest sequence ID: refseq90565, Length: 1975\n"
     ]
    }
   ],
   "source": [
    "# 找出最长序列的名称\n",
    "max_index = lengths_df['Length'].idxmax()\n",
    "max_record = records[max_index]\n",
    "print(f\"Longest sequence ID: {max_record.id}, Length: {len(max_record.seq)}\")"
   ]
  },
  {
   "cell_type": "code",
   "execution_count": 29,
   "metadata": {},
   "outputs": [
    {
     "name": "stdout",
     "output_type": "stream",
     "text": [
      "Shortest sequence ID: refseq127918, Length: 250\n"
     ]
    }
   ],
   "source": [
    "# 找出最长序列的名称\n",
    "min_index = lengths_df['Length'].idxmin()\n",
    "min_record = records[min_index]\n",
    "print(f\"Shortest sequence ID: {min_record.id}, Length: {len(min_record.seq)}\")"
   ]
  },
  {
   "cell_type": "markdown",
   "metadata": {},
   "source": [
    "- 检查最长最短序列后发现能够正确用于鉴定"
   ]
  },
  {
   "cell_type": "code",
   "execution_count": 30,
   "metadata": {},
   "outputs": [
    {
     "data": {
      "text/plain": [
       "67171"
      ]
     },
     "execution_count": 30,
     "metadata": {},
     "output_type": "execute_result"
    }
   ],
   "source": [
    "# 保存过滤后的序列\n",
    "output_file = Path('../data/filtered_16SrRNA.fasta')\n",
    "SeqIO.write(records, output_file, 'fasta')"
   ]
  },
  {
   "cell_type": "code",
   "execution_count": null,
   "metadata": {},
   "outputs": [],
   "source": []
  }
 ],
 "metadata": {
  "kernelspec": {
   "display_name": "psmpa-ai",
   "language": "python",
   "name": "python3"
  },
  "language_info": {
   "codemirror_mode": {
    "name": "ipython",
    "version": 3
   },
   "file_extension": ".py",
   "mimetype": "text/x-python",
   "name": "python",
   "nbconvert_exporter": "python",
   "pygments_lexer": "ipython3",
   "version": "3.11.11"
  }
 },
 "nbformat": 4,
 "nbformat_minor": 2
}
